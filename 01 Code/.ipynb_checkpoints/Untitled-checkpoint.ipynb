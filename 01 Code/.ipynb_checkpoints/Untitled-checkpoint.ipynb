{
 "cells": [
  {
   "cell_type": "code",
   "execution_count": 1,
   "metadata": {
    "collapsed": false
   },
   "outputs": [],
   "source": [
    "#%% Packages Used\n",
    "\n",
    "import pandas as pd\n",
    "import geocoder\n",
    "import numpy as np"
   ]
  },
  {
   "cell_type": "code",
   "execution_count": 2,
   "metadata": {
    "collapsed": false,
    "scrolled": true
   },
   "outputs": [],
   "source": [
    "ComAccessory = pd.read_csv('commercialaccessory.csv',nrows = 1000)\n",
    "ComStructure = pd.read_csv('commercialstructure.csv',nrows = 1000)\n",
    "ComUse = pd.read_csv('commercialuse.csv',nrows = 1000)\n",
    "ParcelsCoord = pd.read_csv('ParcelsCoordOnly.csv',nrows = 1000)\n",
    "parcelwaterbill = pd.read_csv('parcelwaterbill.csv',nrows = 1000)\n",
    "ResAccessory = pd.read_csv('residentialaccessory.csv',nrows = 1000)\n",
    "ResStructure = pd.read_csv('residentialstructure.csv',nrows = 1000)\n",
    "TaxParcel = pd.read_csv('taxparcel2.csv',nrows = 1000)"
   ]
  },
  {
   "cell_type": "code",
   "execution_count": 43,
   "metadata": {
    "collapsed": false
   },
   "outputs": [
    {
     "name": "stderr",
     "output_type": "stream",
     "text": [
      "b'Skipping line 137: expected 69 fields, saw 71\\nSkipping line 663: expected 69 fields, saw 70\\n'\n"
     ]
    }
   ],
   "source": [
    "#NFIRS Data\n",
    "nfirsfir = pd.read_csv(\"nfirsfir.csv\",nrows = 1000)\n",
    "nfirsstr = pd.read_csv(\"nfirsstr.csv\",nrows = 1000)\n",
    "apptimes = pd.read_csv(\"VWNFIRSAPPTIMES.csv\",nrows = 1000)\n",
    "firemain = pd.read_csv('COR_VWFIREMAIN_scrubbed2.csv',nrows = 1000)\n",
    "#firemain = pd.read_csv(open('COR_VWFIREMAIN_scrubbed2.csv','r'), encoding ='utf-8', engine='c')\n",
    "insp = pd.read_csv('insp_scrubbed2.csv',nrows = 1000)\n",
    "#insp = pd.read_csv('insp_scrubbed2.csv',lineterminator='\\n')\n",
    "nfirsmain = pd.read_csv('nfirsmain_scrubbed2.csv',error_bad_lines=False,nrows = 1000)"
   ]
  },
  {
   "cell_type": "code",
   "execution_count": 196,
   "metadata": {
    "collapsed": true
   },
   "outputs": [
    {
     "data": {
      "text/html": [
       "<div>\n",
       "<table border=\"1\" class=\"dataframe\">\n",
       "  <thead>\n",
       "    <tr style=\"text-align: right;\">\n",
       "      <th></th>\n",
       "      <th>Unnamed: 0</th>\n",
       "      <th>OID</th>\n",
       "      <th>PARCELID</th>\n",
       "      <th>STREET_NUM</th>\n",
       "      <th>LOW_STREET_NUM</th>\n",
       "      <th>HIGH_STREET_NUM</th>\n",
       "      <th>STREET_NAME</th>\n",
       "      <th>SITEADDRESS</th>\n",
       "      <th>CITY</th>\n",
       "      <th>ZIP5</th>\n",
       "      <th>...</th>\n",
       "      <th>SALE_DATE</th>\n",
       "      <th>SALE_PRICE</th>\n",
       "      <th>BOOK</th>\n",
       "      <th>PAGE</th>\n",
       "      <th>DEED_TYPE</th>\n",
       "      <th>VALID</th>\n",
       "      <th>RESCOM</th>\n",
       "      <th>BISZONING</th>\n",
       "      <th>OWNERSHIPCODE</th>\n",
       "      <th>NORESUNITS</th>\n",
       "    </tr>\n",
       "  </thead>\n",
       "  <tbody>\n",
       "    <tr>\n",
       "      <th>0</th>\n",
       "      <td>1</td>\n",
       "      <td>1</td>\n",
       "      <td>4.628E+18</td>\n",
       "      <td>790</td>\n",
       "      <td>790.0</td>\n",
       "      <td>790.0</td>\n",
       "      <td>BEACH AV</td>\n",
       "      <td>790 BEACH AV</td>\n",
       "      <td>ROCHESTER</td>\n",
       "      <td>14612</td>\n",
       "      <td>...</td>\n",
       "      <td>12/23/14</td>\n",
       "      <td>660000</td>\n",
       "      <td>11484.0</td>\n",
       "      <td>480</td>\n",
       "      <td>W</td>\n",
       "      <td>NaN</td>\n",
       "      <td>R</td>\n",
       "      <td>R-1</td>\n",
       "      <td></td>\n",
       "      <td>0.0</td>\n",
       "    </tr>\n",
       "    <tr>\n",
       "      <th>1</th>\n",
       "      <td>2</td>\n",
       "      <td>2</td>\n",
       "      <td>4.628E+18</td>\n",
       "      <td>780</td>\n",
       "      <td>780.0</td>\n",
       "      <td>780.0</td>\n",
       "      <td>BEACH AV</td>\n",
       "      <td>780 BEACH AV</td>\n",
       "      <td>ROCHESTER</td>\n",
       "      <td>14612</td>\n",
       "      <td>...</td>\n",
       "      <td>11/20/08</td>\n",
       "      <td>1</td>\n",
       "      <td>10698.0</td>\n",
       "      <td>455</td>\n",
       "      <td>O</td>\n",
       "      <td>NaN</td>\n",
       "      <td>R</td>\n",
       "      <td>R-1</td>\n",
       "      <td></td>\n",
       "      <td>1.0</td>\n",
       "    </tr>\n",
       "    <tr>\n",
       "      <th>2</th>\n",
       "      <td>3</td>\n",
       "      <td>3</td>\n",
       "      <td>4.628E+18</td>\n",
       "      <td>770</td>\n",
       "      <td>770.0</td>\n",
       "      <td>770.0</td>\n",
       "      <td>BEACH AV</td>\n",
       "      <td>770 BEACH AV</td>\n",
       "      <td>ROCHESTER</td>\n",
       "      <td>14612</td>\n",
       "      <td>...</td>\n",
       "      <td>3/31/13</td>\n",
       "      <td>1</td>\n",
       "      <td>11245.0</td>\n",
       "      <td>228</td>\n",
       "      <td>W</td>\n",
       "      <td>NaN</td>\n",
       "      <td>R</td>\n",
       "      <td>R-1</td>\n",
       "      <td></td>\n",
       "      <td>1.0</td>\n",
       "    </tr>\n",
       "    <tr>\n",
       "      <th>3</th>\n",
       "      <td>4</td>\n",
       "      <td>4</td>\n",
       "      <td>4.628E+18</td>\n",
       "      <td>760</td>\n",
       "      <td>760.0</td>\n",
       "      <td>760.0</td>\n",
       "      <td>BEACH AV</td>\n",
       "      <td>760 BEACH AV</td>\n",
       "      <td>ROCHESTER</td>\n",
       "      <td>14612</td>\n",
       "      <td>...</td>\n",
       "      <td>6/6/01</td>\n",
       "      <td>1</td>\n",
       "      <td>9467.0</td>\n",
       "      <td>167</td>\n",
       "      <td>W</td>\n",
       "      <td>NaN</td>\n",
       "      <td>R</td>\n",
       "      <td>R-1</td>\n",
       "      <td></td>\n",
       "      <td>1.0</td>\n",
       "    </tr>\n",
       "    <tr>\n",
       "      <th>4</th>\n",
       "      <td>5</td>\n",
       "      <td>5</td>\n",
       "      <td>4.628E+18</td>\n",
       "      <td>30</td>\n",
       "      <td>30.0</td>\n",
       "      <td>30.0</td>\n",
       "      <td>SEASCAPE DR</td>\n",
       "      <td>30 SEASCAPE DR</td>\n",
       "      <td>ROCHESTER</td>\n",
       "      <td>14612</td>\n",
       "      <td>...</td>\n",
       "      <td>12/5/96</td>\n",
       "      <td>160000</td>\n",
       "      <td>8815.0</td>\n",
       "      <td>674</td>\n",
       "      <td>W</td>\n",
       "      <td>NaN</td>\n",
       "      <td>R</td>\n",
       "      <td>R-1</td>\n",
       "      <td>A</td>\n",
       "      <td>1.0</td>\n",
       "    </tr>\n",
       "  </tbody>\n",
       "</table>\n",
       "<p>5 rows × 34 columns</p>\n",
       "</div>"
      ],
      "text/plain": [
       "   Unnamed: 0  OID   PARCELID STREET_NUM  LOW_STREET_NUM  HIGH_STREET_NUM  \\\n",
       "0           1    1  4.628E+18        790           790.0            790.0   \n",
       "1           2    2  4.628E+18        780           780.0            780.0   \n",
       "2           3    3  4.628E+18        770           770.0            770.0   \n",
       "3           4    4  4.628E+18        760           760.0            760.0   \n",
       "4           5    5  4.628E+18         30            30.0             30.0   \n",
       "\n",
       "   STREET_NAME     SITEADDRESS       CITY   ZIP5     ...      SALE_DATE  \\\n",
       "0     BEACH AV    790 BEACH AV  ROCHESTER  14612     ...       12/23/14   \n",
       "1     BEACH AV    780 BEACH AV  ROCHESTER  14612     ...       11/20/08   \n",
       "2     BEACH AV    770 BEACH AV  ROCHESTER  14612     ...        3/31/13   \n",
       "3     BEACH AV    760 BEACH AV  ROCHESTER  14612     ...         6/6/01   \n",
       "4  SEASCAPE DR  30 SEASCAPE DR  ROCHESTER  14612     ...        12/5/96   \n",
       "\n",
       "  SALE_PRICE     BOOK PAGE DEED_TYPE  VALID  RESCOM  BISZONING  OWNERSHIPCODE  \\\n",
       "0     660000  11484.0  480         W    NaN       R        R-1                  \n",
       "1          1  10698.0  455         O    NaN       R        R-1                  \n",
       "2          1  11245.0  228         W    NaN       R        R-1                  \n",
       "3          1   9467.0  167         W    NaN       R        R-1                  \n",
       "4     160000   8815.0  674         W    NaN       R        R-1              A   \n",
       "\n",
       "   NORESUNITS  \n",
       "0         0.0  \n",
       "1         1.0  \n",
       "2         1.0  \n",
       "3         1.0  \n",
       "4         1.0  \n",
       "\n",
       "[5 rows x 34 columns]"
      ]
     },
     "execution_count": 196,
     "metadata": {},
     "output_type": "execute_result"
    }
   ],
   "source": [
    "# import csv\n",
    "# with open(r\"/Users/nile/Documents/UofR/Career/2018/Ishan Gregory Final Project Fire department/01 Code/COR_VWFIREMAIN_scrubbed2.csv\", 'r') as f:\n",
    "#     reader = csv.reader(f)\n",
    "#     linenumber = 1\n",
    "#     try:\n",
    "#         for row in reader:\n",
    "#             linenumber += 1\n",
    "#     except Exception as e:\n",
    "#         print ((\"Error line %d: %s %s\" % (linenumber, str(type(e)), e.message)))\n"
   ]
  },
  {
   "cell_type": "code",
   "execution_count": 44,
   "metadata": {
    "collapsed": false
   },
   "outputs": [],
   "source": [
    "#%%Clean App data - KEEPING COLUMNS WE NEED\n",
    "App_labels = ['DISPCALLID','NFIRSMAINID','STRNUM','STREET','CITY','ZIP']\n",
    "apptimesReduced = apptimes.ix[:,App_labels]\n",
    "apptimesReduced = apptimesReduced.drop_duplicates()"
   ]
  },
  {
   "cell_type": "code",
   "execution_count": 45,
   "metadata": {
    "collapsed": true
   },
   "outputs": [],
   "source": [
    "#%% Join FIRE Tables\n",
    "FullFireDF = pd.merge(nfirsfir, apptimesReduced, on = 'NFIRSMAINID', how= 'inner')\n",
    "FullFireDF = pd.merge(nfirsstr, FullFireDF, on = 'NFIRSMAINID', how = 'left')"
   ]
  },
  {
   "cell_type": "code",
   "execution_count": 8,
   "metadata": {
    "collapsed": true
   },
   "outputs": [
    {
     "data": {
      "text/plain": [
       "Index(['Unnamed: 0_x', 'NUMSPR', 'DETOP', 'DETPRES', 'EXPNUM_x', 'FDID_x',\n",
       "       'FIREORIGIN', 'FIRESPREAD', 'INCNUM', 'ITEMCONTR', 'DETFAIL',\n",
       "       'NOFLAMESPR', 'DETPOWER', 'SQUAREFEET', 'STORYEXT', 'STORYHEAVY',\n",
       "       'STORYMINOR', 'STORYSIGN', 'STRTYPE', 'TYPEMAT_x', 'WIDTH',\n",
       "       'NFIRSMAINID', 'LENGTHSQL', 'AUTOOP', 'DETTYPE', 'DETEFF', 'AUTOFAIL',\n",
       "       'NFIRSSTRID', 'AUTOPRES', 'AUTOTYPE', 'BELOWCHECK', 'BELOWGRADE',\n",
       "       'BLDHEIGHT', 'BUILDSTAT', 'Unnamed: 0_y', 'NOFIRESUPP', 'NOCAUSE',\n",
       "       'MOBYEAR', 'MOBTYPE', 'MOBSTATE', 'MOBMAKE', 'HUMANSEX', 'LESSONEACR',\n",
       "       'ITEMFIRST', 'MOBINV', 'STORAGE1', 'HUMAN6', 'NOIGNITION', 'MOBMODEL',\n",
       "       'HUMAN5', 'HEATSOURCE', 'NFIRSFIRID', 'TYPEMAT_y', 'STORAGE3',\n",
       "       'STORAGE2', 'POLICE', 'PREPLAN', 'NOTRESFLAG', 'OTHER', 'ONSITENONE',\n",
       "       'ONSITE3', 'ONSITE2', 'ONSITE1', 'NUMRESUNIT', 'NUMBUILD', 'HUMAN7',\n",
       "       'CAUSEIGN', 'HUMAN4', 'ACREBURN', 'ACRENONE', 'AREAORIGIN', 'ARSON',\n",
       "       'CAUSEAGE', 'CONFINEDTO', 'CONTIGN1', 'CONTIGN2', 'CORONER', 'EQUBRAND',\n",
       "       'EQUINV', 'EQUMODEL', 'HUMAN1', 'BUILDNOINV', 'EQUPORT', 'HUMAN2',\n",
       "       'HUMAN3', 'FIRESUPP3', 'FIRESUPP2', 'EQUSERIAL', 'EQUPOWER', 'EQUYEAR',\n",
       "       'EXPNUM_y', 'FDID_y', 'FIRESUPP1', 'DISPCALLID', 'STRNUM', 'STREET',\n",
       "       'CITY', 'ZIP'],\n",
       "      dtype='object')"
      ]
     },
     "execution_count": 8,
     "metadata": {},
     "output_type": "execute_result"
    }
   ],
   "source": [
    "FullFireDF.columns"
   ]
  },
  {
   "cell_type": "code",
   "execution_count": 46,
   "metadata": {
    "collapsed": true
   },
   "outputs": [],
   "source": [
    "#%% Clean Fire data KEEPING COLUMNS WE NEED, REMOVING DUPS & NA, ALL THESE HAVE FIRE??\n",
    "Fire_labels = ['NFIRSSTRID','STRNUM','STREET','CITY','ZIP']\n",
    "FireDFReduced = FullFireDF.ix[:,Fire_labels]\n",
    "#Remove Duplicates\n",
    "FireDFReduced = FireDFReduced.drop_duplicates()\n",
    "#Remove NA\n",
    "FireDFReduced = FireDFReduced.ix[~FireDFReduced['STREET'].isnull(),:]\n",
    "FireDFReduced['FIRE'] = 'YES' #?????"
   ]
  },
  {
   "cell_type": "code",
   "execution_count": 49,
   "metadata": {
    "collapsed": false
   },
   "outputs": [],
   "source": [
    "#%% Rename FireDF Columns\n",
    "FireDFReduced = FireDFReduced.rename(columns={'STRNUM':'STREET_NUM','STREET':'STREET_NAME'})  \n"
   ]
  },
  {
   "cell_type": "code",
   "execution_count": null,
   "metadata": {
    "collapsed": true
   },
   "outputs": [],
   "source": [
    "#Convert STREET_NUM column to string for concatenating into an ADDRESS column\n",
    "FireDFReduced['STREET_NUM'] = FireDFReduced['STREET_NUM'].astype(str)"
   ]
  },
  {
   "cell_type": "code",
   "execution_count": 176,
   "metadata": {
    "collapsed": false
   },
   "outputs": [],
   "source": [
    "#%% Create a column with the address\n",
    "FireDFReduced['ADDRESS'] = FireDFReduced['STREET_NUM']  + \" \" + FireDFReduced['STREET_NAME'] + \" \" + FireDFReduced['CITY'] +\", NY \"+ FireDFReduced['ZIP']"
   ]
  },
  {
   "cell_type": "code",
   "execution_count": 179,
   "metadata": {
    "collapsed": false
   },
   "outputs": [
    {
     "data": {
      "text/html": [
       "<div>\n",
       "<table border=\"1\" class=\"dataframe\">\n",
       "  <thead>\n",
       "    <tr style=\"text-align: right;\">\n",
       "      <th></th>\n",
       "      <th>NFIRSSTRID</th>\n",
       "      <th>STREET_NUM</th>\n",
       "      <th>STREET_NAME</th>\n",
       "      <th>CITY</th>\n",
       "      <th>ZIP</th>\n",
       "      <th>FIRE</th>\n",
       "      <th>ADDRESS</th>\n",
       "    </tr>\n",
       "  </thead>\n",
       "  <tbody>\n",
       "    <tr>\n",
       "      <th>0</th>\n",
       "      <td>1.0</td>\n",
       "      <td>22.0</td>\n",
       "      <td>BEAUFORT ST</td>\n",
       "      <td>ROCHESTER</td>\n",
       "      <td>14620</td>\n",
       "      <td>YES</td>\n",
       "      <td>22.0 BEAUFORT ST ROCHESTER, NY 14620</td>\n",
       "    </tr>\n",
       "    <tr>\n",
       "      <th>1</th>\n",
       "      <td>2.0</td>\n",
       "      <td>109.0</td>\n",
       "      <td>ROYCROFT DR</td>\n",
       "      <td>ROCHESTER</td>\n",
       "      <td>14621</td>\n",
       "      <td>YES</td>\n",
       "      <td>109.0 ROYCROFT DR ROCHESTER, NY 14621</td>\n",
       "    </tr>\n",
       "    <tr>\n",
       "      <th>2</th>\n",
       "      <td>3.0</td>\n",
       "      <td>191.0</td>\n",
       "      <td>TROUP ST</td>\n",
       "      <td>ROCHESTER</td>\n",
       "      <td>14608</td>\n",
       "      <td>YES</td>\n",
       "      <td>191.0 TROUP ST ROCHESTER, NY 14608</td>\n",
       "    </tr>\n",
       "    <tr>\n",
       "      <th>3</th>\n",
       "      <td>4.0</td>\n",
       "      <td>255.0</td>\n",
       "      <td>BERGEN ST</td>\n",
       "      <td>ROCHESTER</td>\n",
       "      <td>14606</td>\n",
       "      <td>YES</td>\n",
       "      <td>255.0 BERGEN ST ROCHESTER, NY 14606</td>\n",
       "    </tr>\n",
       "    <tr>\n",
       "      <th>4</th>\n",
       "      <td>5.0</td>\n",
       "      <td>1295.0</td>\n",
       "      <td>LAKE AV</td>\n",
       "      <td>ROCHESTER</td>\n",
       "      <td>14613</td>\n",
       "      <td>YES</td>\n",
       "      <td>1295.0 LAKE AV ROCHESTER, NY 14613</td>\n",
       "    </tr>\n",
       "  </tbody>\n",
       "</table>\n",
       "</div>"
      ],
      "text/plain": [
       "   NFIRSSTRID STREET_NUM  STREET_NAME       CITY    ZIP FIRE  \\\n",
       "0         1.0       22.0  BEAUFORT ST  ROCHESTER  14620  YES   \n",
       "1         2.0      109.0  ROYCROFT DR  ROCHESTER  14621  YES   \n",
       "2         3.0      191.0     TROUP ST  ROCHESTER  14608  YES   \n",
       "3         4.0      255.0    BERGEN ST  ROCHESTER  14606  YES   \n",
       "4         5.0     1295.0      LAKE AV  ROCHESTER  14613  YES   \n",
       "\n",
       "                                 ADDRESS  \n",
       "0   22.0 BEAUFORT ST ROCHESTER, NY 14620  \n",
       "1  109.0 ROYCROFT DR ROCHESTER, NY 14621  \n",
       "2     191.0 TROUP ST ROCHESTER, NY 14608  \n",
       "3    255.0 BERGEN ST ROCHESTER, NY 14606  \n",
       "4     1295.0 LAKE AV ROCHESTER, NY 14613  "
      ]
     },
     "execution_count": 179,
     "metadata": {},
     "output_type": "execute_result"
    }
   ],
   "source": [
    "FireDFReduced.head()"
   ]
  },
  {
   "cell_type": "code",
   "execution_count": 174,
   "metadata": {
    "collapsed": false
   },
   "outputs": [],
   "source": [
    "# FireDFReduced['Test'] = FireDFReduced['STREET_NUM']  + \" \" + FireDFReduced['STREET_NAME'] + \" \" + FireDFReduced['CITY'] +\", NY \"+ FireDFReduced['ZIP']"
   ]
  },
  {
   "cell_type": "code",
   "execution_count": 172,
   "metadata": {
    "collapsed": true
   },
   "outputs": [
    {
     "ename": "TypeError",
     "evalue": "argument of type 'float' is not iterable",
     "output_type": "error",
     "traceback": [
      "\u001b[0;31m---------------------------------------------------------------------------\u001b[0m",
      "\u001b[0;31mTypeError\u001b[0m                                 Traceback (most recent call last)",
      "\u001b[0;32m<ipython-input-172-f95f33d59266>\u001b[0m in \u001b[0;36m<module>\u001b[0;34m()\u001b[0m\n\u001b[1;32m      4\u001b[0m     \u001b[0;32mreturn\u001b[0m \u001b[0mtext\u001b[0m\u001b[0;34m\u001b[0m\u001b[0m\n\u001b[1;32m      5\u001b[0m \u001b[0;34m\u001b[0m\u001b[0m\n\u001b[0;32m----> 6\u001b[0;31m \u001b[0mFireDFReduced\u001b[0m\u001b[0;34m.\u001b[0m\u001b[0mTest\u001b[0m \u001b[0;34m=\u001b[0m \u001b[0mFireDFReduced\u001b[0m\u001b[0;34m.\u001b[0m\u001b[0mTest\u001b[0m\u001b[0;34m.\u001b[0m\u001b[0mapply\u001b[0m\u001b[0;34m(\u001b[0m\u001b[0mtrim_fraction\u001b[0m\u001b[0;34m)\u001b[0m\u001b[0;34m\u001b[0m\u001b[0m\n\u001b[0m",
      "\u001b[0;32m/Users/nile/anaconda/lib/python3.5/site-packages/pandas/core/series.py\u001b[0m in \u001b[0;36mapply\u001b[0;34m(self, func, convert_dtype, args, **kwds)\u001b[0m\n\u001b[1;32m   2292\u001b[0m             \u001b[0;32melse\u001b[0m\u001b[0;34m:\u001b[0m\u001b[0;34m\u001b[0m\u001b[0m\n\u001b[1;32m   2293\u001b[0m                 \u001b[0mvalues\u001b[0m \u001b[0;34m=\u001b[0m \u001b[0mself\u001b[0m\u001b[0;34m.\u001b[0m\u001b[0masobject\u001b[0m\u001b[0;34m\u001b[0m\u001b[0m\n\u001b[0;32m-> 2294\u001b[0;31m                 \u001b[0mmapped\u001b[0m \u001b[0;34m=\u001b[0m \u001b[0mlib\u001b[0m\u001b[0;34m.\u001b[0m\u001b[0mmap_infer\u001b[0m\u001b[0;34m(\u001b[0m\u001b[0mvalues\u001b[0m\u001b[0;34m,\u001b[0m \u001b[0mf\u001b[0m\u001b[0;34m,\u001b[0m \u001b[0mconvert\u001b[0m\u001b[0;34m=\u001b[0m\u001b[0mconvert_dtype\u001b[0m\u001b[0;34m)\u001b[0m\u001b[0;34m\u001b[0m\u001b[0m\n\u001b[0m\u001b[1;32m   2295\u001b[0m \u001b[0;34m\u001b[0m\u001b[0m\n\u001b[1;32m   2296\u001b[0m         \u001b[0;32mif\u001b[0m \u001b[0mlen\u001b[0m\u001b[0;34m(\u001b[0m\u001b[0mmapped\u001b[0m\u001b[0;34m)\u001b[0m \u001b[0;32mand\u001b[0m \u001b[0misinstance\u001b[0m\u001b[0;34m(\u001b[0m\u001b[0mmapped\u001b[0m\u001b[0;34m[\u001b[0m\u001b[0;36m0\u001b[0m\u001b[0;34m]\u001b[0m\u001b[0;34m,\u001b[0m \u001b[0mSeries\u001b[0m\u001b[0;34m)\u001b[0m\u001b[0;34m:\u001b[0m\u001b[0;34m\u001b[0m\u001b[0m\n",
      "\u001b[0;32mpandas/src/inference.pyx\u001b[0m in \u001b[0;36mpandas.lib.map_infer (pandas/lib.c:66124)\u001b[0;34m()\u001b[0m\n",
      "\u001b[0;32m<ipython-input-172-f95f33d59266>\u001b[0m in \u001b[0;36mtrim_fraction\u001b[0;34m(text)\u001b[0m\n\u001b[1;32m      1\u001b[0m \u001b[0;32mdef\u001b[0m \u001b[0mtrim_fraction\u001b[0m\u001b[0;34m(\u001b[0m\u001b[0mtext\u001b[0m\u001b[0;34m)\u001b[0m\u001b[0;34m:\u001b[0m\u001b[0;34m\u001b[0m\u001b[0m\n\u001b[0;32m----> 2\u001b[0;31m     \u001b[0;32mif\u001b[0m \u001b[0;34m'.0'\u001b[0m \u001b[0;32min\u001b[0m \u001b[0mtext\u001b[0m\u001b[0;34m:\u001b[0m\u001b[0;34m\u001b[0m\u001b[0m\n\u001b[0m\u001b[1;32m      3\u001b[0m         \u001b[0;32mreturn\u001b[0m \u001b[0mtext\u001b[0m\u001b[0;34m[\u001b[0m\u001b[0;34m:\u001b[0m\u001b[0mtext\u001b[0m\u001b[0;34m.\u001b[0m\u001b[0mrfind\u001b[0m\u001b[0;34m(\u001b[0m\u001b[0;34m'.0'\u001b[0m\u001b[0;34m)\u001b[0m\u001b[0;34m]\u001b[0m\u001b[0;34m\u001b[0m\u001b[0m\n\u001b[1;32m      4\u001b[0m     \u001b[0;32mreturn\u001b[0m \u001b[0mtext\u001b[0m\u001b[0;34m\u001b[0m\u001b[0m\n\u001b[1;32m      5\u001b[0m \u001b[0;34m\u001b[0m\u001b[0m\n",
      "\u001b[0;31mTypeError\u001b[0m: argument of type 'float' is not iterable"
     ]
    }
   ],
   "source": [
    "# def trim_fraction(text):\n",
    "#     if '.0' in text:\n",
    "#         return text[:text.rfind('.0')]\n",
    "#     return text\n",
    "\n",
    "# FireDFReduced.Test = FireDFReduced.Test.apply(trim_fraction)"
   ]
  },
  {
   "cell_type": "code",
   "execution_count": 180,
   "metadata": {
    "collapsed": true
   },
   "outputs": [],
   "source": [
    "#%% Merge Fire and Parcel\n",
    "Fire_Parcel = pd.merge(FireDFReduced, TaxParcel, on = ['STREET_NUM','STREET_NAME'], how = 'left' )"
   ]
  },
  {
   "cell_type": "code",
   "execution_count": 187,
   "metadata": {
    "collapsed": false
   },
   "outputs": [
    {
     "data": {
      "text/html": [
       "<div>\n",
       "<table border=\"1\" class=\"dataframe\">\n",
       "  <thead>\n",
       "    <tr style=\"text-align: right;\">\n",
       "      <th></th>\n",
       "      <th>NFIRSSTRID</th>\n",
       "      <th>STREET_NUM</th>\n",
       "      <th>STREET_NAME</th>\n",
       "      <th>CITY_x</th>\n",
       "      <th>ZIP</th>\n",
       "      <th>FIRE</th>\n",
       "      <th>ADDRESS</th>\n",
       "      <th>Unnamed: 0</th>\n",
       "      <th>OID</th>\n",
       "      <th>PARCELID</th>\n",
       "      <th>...</th>\n",
       "      <th>SALE_DATE</th>\n",
       "      <th>SALE_PRICE</th>\n",
       "      <th>BOOK</th>\n",
       "      <th>PAGE</th>\n",
       "      <th>DEED_TYPE</th>\n",
       "      <th>VALID</th>\n",
       "      <th>RESCOM</th>\n",
       "      <th>BISZONING</th>\n",
       "      <th>OWNERSHIPCODE</th>\n",
       "      <th>NORESUNITS</th>\n",
       "    </tr>\n",
       "  </thead>\n",
       "  <tbody>\n",
       "    <tr>\n",
       "      <th>0</th>\n",
       "      <td>1.0</td>\n",
       "      <td>22.0</td>\n",
       "      <td>BEAUFORT ST</td>\n",
       "      <td>ROCHESTER</td>\n",
       "      <td>14620</td>\n",
       "      <td>YES</td>\n",
       "      <td>22.0 BEAUFORT ST ROCHESTER, NY 14620</td>\n",
       "      <td>NaN</td>\n",
       "      <td>NaN</td>\n",
       "      <td>NaN</td>\n",
       "      <td>...</td>\n",
       "      <td>NaN</td>\n",
       "      <td>NaN</td>\n",
       "      <td>NaN</td>\n",
       "      <td>NaN</td>\n",
       "      <td>NaN</td>\n",
       "      <td>NaN</td>\n",
       "      <td>NaN</td>\n",
       "      <td>NaN</td>\n",
       "      <td>NaN</td>\n",
       "      <td>NaN</td>\n",
       "    </tr>\n",
       "    <tr>\n",
       "      <th>1</th>\n",
       "      <td>2.0</td>\n",
       "      <td>109.0</td>\n",
       "      <td>ROYCROFT DR</td>\n",
       "      <td>ROCHESTER</td>\n",
       "      <td>14621</td>\n",
       "      <td>YES</td>\n",
       "      <td>109.0 ROYCROFT DR ROCHESTER, NY 14621</td>\n",
       "      <td>NaN</td>\n",
       "      <td>NaN</td>\n",
       "      <td>NaN</td>\n",
       "      <td>...</td>\n",
       "      <td>NaN</td>\n",
       "      <td>NaN</td>\n",
       "      <td>NaN</td>\n",
       "      <td>NaN</td>\n",
       "      <td>NaN</td>\n",
       "      <td>NaN</td>\n",
       "      <td>NaN</td>\n",
       "      <td>NaN</td>\n",
       "      <td>NaN</td>\n",
       "      <td>NaN</td>\n",
       "    </tr>\n",
       "    <tr>\n",
       "      <th>2</th>\n",
       "      <td>3.0</td>\n",
       "      <td>191.0</td>\n",
       "      <td>TROUP ST</td>\n",
       "      <td>ROCHESTER</td>\n",
       "      <td>14608</td>\n",
       "      <td>YES</td>\n",
       "      <td>191.0 TROUP ST ROCHESTER, NY 14608</td>\n",
       "      <td>NaN</td>\n",
       "      <td>NaN</td>\n",
       "      <td>NaN</td>\n",
       "      <td>...</td>\n",
       "      <td>NaN</td>\n",
       "      <td>NaN</td>\n",
       "      <td>NaN</td>\n",
       "      <td>NaN</td>\n",
       "      <td>NaN</td>\n",
       "      <td>NaN</td>\n",
       "      <td>NaN</td>\n",
       "      <td>NaN</td>\n",
       "      <td>NaN</td>\n",
       "      <td>NaN</td>\n",
       "    </tr>\n",
       "    <tr>\n",
       "      <th>3</th>\n",
       "      <td>4.0</td>\n",
       "      <td>255.0</td>\n",
       "      <td>BERGEN ST</td>\n",
       "      <td>ROCHESTER</td>\n",
       "      <td>14606</td>\n",
       "      <td>YES</td>\n",
       "      <td>255.0 BERGEN ST ROCHESTER, NY 14606</td>\n",
       "      <td>NaN</td>\n",
       "      <td>NaN</td>\n",
       "      <td>NaN</td>\n",
       "      <td>...</td>\n",
       "      <td>NaN</td>\n",
       "      <td>NaN</td>\n",
       "      <td>NaN</td>\n",
       "      <td>NaN</td>\n",
       "      <td>NaN</td>\n",
       "      <td>NaN</td>\n",
       "      <td>NaN</td>\n",
       "      <td>NaN</td>\n",
       "      <td>NaN</td>\n",
       "      <td>NaN</td>\n",
       "    </tr>\n",
       "    <tr>\n",
       "      <th>4</th>\n",
       "      <td>5.0</td>\n",
       "      <td>1295.0</td>\n",
       "      <td>LAKE AV</td>\n",
       "      <td>ROCHESTER</td>\n",
       "      <td>14613</td>\n",
       "      <td>YES</td>\n",
       "      <td>1295.0 LAKE AV ROCHESTER, NY 14613</td>\n",
       "      <td>NaN</td>\n",
       "      <td>NaN</td>\n",
       "      <td>NaN</td>\n",
       "      <td>...</td>\n",
       "      <td>NaN</td>\n",
       "      <td>NaN</td>\n",
       "      <td>NaN</td>\n",
       "      <td>NaN</td>\n",
       "      <td>NaN</td>\n",
       "      <td>NaN</td>\n",
       "      <td>NaN</td>\n",
       "      <td>NaN</td>\n",
       "      <td>NaN</td>\n",
       "      <td>NaN</td>\n",
       "    </tr>\n",
       "  </tbody>\n",
       "</table>\n",
       "<p>5 rows × 39 columns</p>\n",
       "</div>"
      ],
      "text/plain": [
       "   NFIRSSTRID STREET_NUM  STREET_NAME     CITY_x    ZIP FIRE  \\\n",
       "0         1.0       22.0  BEAUFORT ST  ROCHESTER  14620  YES   \n",
       "1         2.0      109.0  ROYCROFT DR  ROCHESTER  14621  YES   \n",
       "2         3.0      191.0     TROUP ST  ROCHESTER  14608  YES   \n",
       "3         4.0      255.0    BERGEN ST  ROCHESTER  14606  YES   \n",
       "4         5.0     1295.0      LAKE AV  ROCHESTER  14613  YES   \n",
       "\n",
       "                                 ADDRESS  Unnamed: 0  OID PARCELID    ...      \\\n",
       "0   22.0 BEAUFORT ST ROCHESTER, NY 14620         NaN  NaN      NaN    ...       \n",
       "1  109.0 ROYCROFT DR ROCHESTER, NY 14621         NaN  NaN      NaN    ...       \n",
       "2     191.0 TROUP ST ROCHESTER, NY 14608         NaN  NaN      NaN    ...       \n",
       "3    255.0 BERGEN ST ROCHESTER, NY 14606         NaN  NaN      NaN    ...       \n",
       "4     1295.0 LAKE AV ROCHESTER, NY 14613         NaN  NaN      NaN    ...       \n",
       "\n",
       "   SALE_DATE  SALE_PRICE BOOK PAGE  DEED_TYPE  VALID RESCOM BISZONING  \\\n",
       "0        NaN         NaN  NaN  NaN        NaN    NaN    NaN       NaN   \n",
       "1        NaN         NaN  NaN  NaN        NaN    NaN    NaN       NaN   \n",
       "2        NaN         NaN  NaN  NaN        NaN    NaN    NaN       NaN   \n",
       "3        NaN         NaN  NaN  NaN        NaN    NaN    NaN       NaN   \n",
       "4        NaN         NaN  NaN  NaN        NaN    NaN    NaN       NaN   \n",
       "\n",
       "  OWNERSHIPCODE NORESUNITS  \n",
       "0           NaN        NaN  \n",
       "1           NaN        NaN  \n",
       "2           NaN        NaN  \n",
       "3           NaN        NaN  \n",
       "4           NaN        NaN  \n",
       "\n",
       "[5 rows x 39 columns]"
      ]
     },
     "execution_count": 187,
     "metadata": {},
     "output_type": "execute_result"
    }
   ],
   "source": [
    "#FireDFReduced['STREET_NUM'].astype(str)\n",
    "Fire_Parcel.head()"
   ]
  },
  {
   "cell_type": "code",
   "execution_count": 183,
   "metadata": {
    "collapsed": false
   },
   "outputs": [
    {
     "data": {
      "text/plain": [
       "11"
      ]
     },
     "execution_count": 183,
     "metadata": {},
     "output_type": "execute_result"
    }
   ],
   "source": [
    "#%% Number of Nulls\n",
    "sum(Fire_Parcel['PARCELID'].isnull())"
   ]
  },
  {
   "cell_type": "code",
   "execution_count": 192,
   "metadata": {
    "collapsed": true
   },
   "outputs": [],
   "source": [
    "#%%Subset of Parcels without problems\n",
    "FireDFNoProblems = Fire_Parcel.ix[Fire_Parcel['PARCELID'].isnull(),[0,1,2,3,4,5,6,9]]"
   ]
  },
  {
   "cell_type": "code",
   "execution_count": 195,
   "metadata": {
    "collapsed": false
   },
   "outputs": [
    {
     "data": {
      "text/html": [
       "<div>\n",
       "<table border=\"1\" class=\"dataframe\">\n",
       "  <thead>\n",
       "    <tr style=\"text-align: right;\">\n",
       "      <th></th>\n",
       "      <th>NFIRSSTRID</th>\n",
       "      <th>STREET_NUM</th>\n",
       "      <th>STREET_NAME</th>\n",
       "      <th>CITY_x</th>\n",
       "      <th>ZIP</th>\n",
       "      <th>FIRE</th>\n",
       "      <th>ADDRESS</th>\n",
       "      <th>PARCELID</th>\n",
       "    </tr>\n",
       "  </thead>\n",
       "  <tbody>\n",
       "    <tr>\n",
       "      <th>0</th>\n",
       "      <td>1.0</td>\n",
       "      <td>22.0</td>\n",
       "      <td>BEAUFORT ST</td>\n",
       "      <td>ROCHESTER</td>\n",
       "      <td>14620</td>\n",
       "      <td>YES</td>\n",
       "      <td>22.0 BEAUFORT ST ROCHESTER, NY 14620</td>\n",
       "      <td>NaN</td>\n",
       "    </tr>\n",
       "    <tr>\n",
       "      <th>1</th>\n",
       "      <td>2.0</td>\n",
       "      <td>109.0</td>\n",
       "      <td>ROYCROFT DR</td>\n",
       "      <td>ROCHESTER</td>\n",
       "      <td>14621</td>\n",
       "      <td>YES</td>\n",
       "      <td>109.0 ROYCROFT DR ROCHESTER, NY 14621</td>\n",
       "      <td>NaN</td>\n",
       "    </tr>\n",
       "    <tr>\n",
       "      <th>2</th>\n",
       "      <td>3.0</td>\n",
       "      <td>191.0</td>\n",
       "      <td>TROUP ST</td>\n",
       "      <td>ROCHESTER</td>\n",
       "      <td>14608</td>\n",
       "      <td>YES</td>\n",
       "      <td>191.0 TROUP ST ROCHESTER, NY 14608</td>\n",
       "      <td>NaN</td>\n",
       "    </tr>\n",
       "    <tr>\n",
       "      <th>3</th>\n",
       "      <td>4.0</td>\n",
       "      <td>255.0</td>\n",
       "      <td>BERGEN ST</td>\n",
       "      <td>ROCHESTER</td>\n",
       "      <td>14606</td>\n",
       "      <td>YES</td>\n",
       "      <td>255.0 BERGEN ST ROCHESTER, NY 14606</td>\n",
       "      <td>NaN</td>\n",
       "    </tr>\n",
       "    <tr>\n",
       "      <th>4</th>\n",
       "      <td>5.0</td>\n",
       "      <td>1295.0</td>\n",
       "      <td>LAKE AV</td>\n",
       "      <td>ROCHESTER</td>\n",
       "      <td>14613</td>\n",
       "      <td>YES</td>\n",
       "      <td>1295.0 LAKE AV ROCHESTER, NY 14613</td>\n",
       "      <td>NaN</td>\n",
       "    </tr>\n",
       "    <tr>\n",
       "      <th>5</th>\n",
       "      <td>6.0</td>\n",
       "      <td>94.0</td>\n",
       "      <td>JONES AV</td>\n",
       "      <td>ROCHESTER</td>\n",
       "      <td>14608</td>\n",
       "      <td>YES</td>\n",
       "      <td>94.0 JONES AV ROCHESTER, NY 14608</td>\n",
       "      <td>NaN</td>\n",
       "    </tr>\n",
       "    <tr>\n",
       "      <th>6</th>\n",
       "      <td>7.0</td>\n",
       "      <td>822.0</td>\n",
       "      <td>AVENUE D</td>\n",
       "      <td>ROCHESTER</td>\n",
       "      <td>14621-</td>\n",
       "      <td>YES</td>\n",
       "      <td>822.0 AVENUE D ROCHESTER, NY 14621-</td>\n",
       "      <td>NaN</td>\n",
       "    </tr>\n",
       "    <tr>\n",
       "      <th>7</th>\n",
       "      <td>8.0</td>\n",
       "      <td>175.0</td>\n",
       "      <td>N CLINTON AV</td>\n",
       "      <td>ROCHESTER</td>\n",
       "      <td>14604-</td>\n",
       "      <td>YES</td>\n",
       "      <td>175.0 N CLINTON AV ROCHESTER, NY 14604-</td>\n",
       "      <td>NaN</td>\n",
       "    </tr>\n",
       "    <tr>\n",
       "      <th>8</th>\n",
       "      <td>9.0</td>\n",
       "      <td>1176.0</td>\n",
       "      <td>S PLYMOUTH AV</td>\n",
       "      <td>ROCHESTER</td>\n",
       "      <td>14611</td>\n",
       "      <td>YES</td>\n",
       "      <td>1176.0 S PLYMOUTH AV ROCHESTER, NY 14611</td>\n",
       "      <td>NaN</td>\n",
       "    </tr>\n",
       "    <tr>\n",
       "      <th>9</th>\n",
       "      <td>11.0</td>\n",
       "      <td>314.0</td>\n",
       "      <td>N UNION ST</td>\n",
       "      <td>ROCHESTER</td>\n",
       "      <td>14605-</td>\n",
       "      <td>YES</td>\n",
       "      <td>314.0 N UNION ST ROCHESTER, NY 14605-</td>\n",
       "      <td>NaN</td>\n",
       "    </tr>\n",
       "    <tr>\n",
       "      <th>10</th>\n",
       "      <td>NaN</td>\n",
       "      <td>nan</td>\n",
       "      <td>NaN</td>\n",
       "      <td>NaN</td>\n",
       "      <td>NaN</td>\n",
       "      <td>NaN</td>\n",
       "      <td>NaN</td>\n",
       "      <td>NaN</td>\n",
       "    </tr>\n",
       "  </tbody>\n",
       "</table>\n",
       "</div>"
      ],
      "text/plain": [
       "    NFIRSSTRID STREET_NUM    STREET_NAME     CITY_x     ZIP FIRE  \\\n",
       "0          1.0       22.0    BEAUFORT ST  ROCHESTER   14620  YES   \n",
       "1          2.0      109.0    ROYCROFT DR  ROCHESTER   14621  YES   \n",
       "2          3.0      191.0       TROUP ST  ROCHESTER   14608  YES   \n",
       "3          4.0      255.0      BERGEN ST  ROCHESTER   14606  YES   \n",
       "4          5.0     1295.0        LAKE AV  ROCHESTER   14613  YES   \n",
       "5          6.0       94.0       JONES AV  ROCHESTER   14608  YES   \n",
       "6          7.0      822.0       AVENUE D  ROCHESTER  14621-  YES   \n",
       "7          8.0      175.0   N CLINTON AV  ROCHESTER  14604-  YES   \n",
       "8          9.0     1176.0  S PLYMOUTH AV  ROCHESTER   14611  YES   \n",
       "9         11.0      314.0     N UNION ST  ROCHESTER  14605-  YES   \n",
       "10         NaN        nan            NaN        NaN     NaN  NaN   \n",
       "\n",
       "                                     ADDRESS PARCELID  \n",
       "0       22.0 BEAUFORT ST ROCHESTER, NY 14620      NaN  \n",
       "1      109.0 ROYCROFT DR ROCHESTER, NY 14621      NaN  \n",
       "2         191.0 TROUP ST ROCHESTER, NY 14608      NaN  \n",
       "3        255.0 BERGEN ST ROCHESTER, NY 14606      NaN  \n",
       "4         1295.0 LAKE AV ROCHESTER, NY 14613      NaN  \n",
       "5          94.0 JONES AV ROCHESTER, NY 14608      NaN  \n",
       "6        822.0 AVENUE D ROCHESTER, NY 14621-      NaN  \n",
       "7    175.0 N CLINTON AV ROCHESTER, NY 14604-      NaN  \n",
       "8   1176.0 S PLYMOUTH AV ROCHESTER, NY 14611      NaN  \n",
       "9      314.0 N UNION ST ROCHESTER, NY 14605-      NaN  \n",
       "10                                       NaN      NaN  "
      ]
     },
     "execution_count": 195,
     "metadata": {},
     "output_type": "execute_result"
    }
   ],
   "source": [
    "FireDFNoProblems"
   ]
  },
  {
   "cell_type": "code",
   "execution_count": 194,
   "metadata": {
    "collapsed": true
   },
   "outputs": [],
   "source": [
    "#%%Subset of Parcels with problems\n",
    "FireDFProblems = Fire_Parcel.ix[Fire_Parcel['PARCELID'].isnull(),0:7]\n",
    "FireDFProblems = FireDFProblems.reset_index(drop=True)"
   ]
  },
  {
   "cell_type": "code",
   "execution_count": null,
   "metadata": {
    "collapsed": true
   },
   "outputs": [],
   "source": []
  }
 ],
 "metadata": {
  "kernelspec": {
   "display_name": "Python [conda root]",
   "language": "python",
   "name": "conda-root-py"
  },
  "language_info": {
   "codemirror_mode": {
    "name": "ipython",
    "version": 3
   },
   "file_extension": ".py",
   "mimetype": "text/x-python",
   "name": "python",
   "nbconvert_exporter": "python",
   "pygments_lexer": "ipython3",
   "version": "3.5.2"
  }
 },
 "nbformat": 4,
 "nbformat_minor": 2
}
